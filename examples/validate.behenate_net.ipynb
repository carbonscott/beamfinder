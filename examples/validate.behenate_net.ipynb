{
 "cells": [
  {
   "cell_type": "markdown",
   "id": "03a54ea9-f5d1-47c7-8b92-38a615bc2dc4",
   "metadata": {},
   "source": [
    "<p align=\"center\">\n",
    "  <img src=\"IMG_14DF4D520FB0-1.jpeg\" alt=\"End-to-end?\">\n",
    "</p>"
   ]
  },
  {
   "cell_type": "code",
   "execution_count": 1,
   "id": "fc02def9-6a01-4f2f-a6b1-d952d603c330",
   "metadata": {},
   "outputs": [],
   "source": [
    "import os\n",
    "import pickle\n",
    "import numpy as np\n",
    "import torch\n",
    "import random\n",
    "import tqdm\n",
    "import time"
   ]
  },
  {
   "cell_type": "code",
   "execution_count": 2,
   "id": "6f63869d-5973-4c35-8d9e-d9a81a17dbd9",
   "metadata": {
    "tags": []
   },
   "outputs": [],
   "source": [
    "import matplotlib              as mpl\n",
    "import matplotlib.pyplot       as plt\n",
    "import matplotlib.colors       as mcolors\n",
    "import matplotlib.patches      as mpatches\n",
    "import matplotlib.transforms   as mtransforms\n",
    "import matplotlib.font_manager as font_manager\n",
    "%matplotlib inline"
   ]
  },
  {
   "cell_type": "code",
   "execution_count": 3,
   "id": "a6b9af70-b506-4226-8644-4cdc5e09116d",
   "metadata": {},
   "outputs": [],
   "source": [
    "from behenate_net.aug import PadBottomRight, \\\n",
    "                             Pad,            \\\n",
    "                             Crop,           \\\n",
    "                             RandomCenterCropZoom,     \\\n",
    "                             Resize,         \\\n",
    "                             RandomShift,    \\\n",
    "                             RandomRotate,   \\\n",
    "                             RandomPatch"
   ]
  },
  {
   "cell_type": "code",
   "execution_count": 4,
   "id": "9e59fc93-6488-4ec9-bcae-db079416c4c8",
   "metadata": {},
   "outputs": [],
   "source": [
    "from behenate_net.dataset   import BeHenateDataset\n",
    "from behenate_net.model     import ConfigModel, BeHenataNet\n",
    "from behenate_net.utils     import split_dataset, set_seed"
   ]
  },
  {
   "cell_type": "code",
   "execution_count": 5,
   "id": "84beccc9-0590-4b70-bdf5-2f51d4c46f12",
   "metadata": {},
   "outputs": [],
   "source": [
    "seed = 0\n",
    "set_seed(seed)"
   ]
  },
  {
   "cell_type": "code",
   "execution_count": null,
   "id": "70c9f7ed-07dc-432c-8cc5-220c2caa5daa",
   "metadata": {},
   "outputs": [],
   "source": [
    "batch_size = 100\n",
    "lr = 1e-3\n",
    "frac_train = 0.6\n",
    "frac_validate = 0.5"
   ]
  },
  {
   "cell_type": "code",
   "execution_count": null,
   "id": "e1c51d19-d347-45e1-b3d7-c1c5892ec7cd",
   "metadata": {},
   "outputs": [],
   "source": [
    "timestamp = \"2023_0317_1153_21\"\n",
    "epoch = 58\n",
    "fl_chkpt = f\"{timestamp}.epoch_{epoch}.chkpt\""
   ]
  },
  {
   "cell_type": "code",
   "execution_count": null,
   "id": "0c5624e5-dc0f-46e4-9127-7e0a95161a3b",
   "metadata": {},
   "outputs": [],
   "source": [
    "timestamp = \"2023_0317_0930_32\"\n",
    "epoch = 122\n",
    "fl_chkpt = f\"{timestamp}.epoch_{epoch}.chkpt\""
   ]
  },
  {
   "cell_type": "code",
   "execution_count": null,
   "id": "1ac38c05-fbd8-4f7f-871e-796d2ffdc8e7",
   "metadata": {},
   "outputs": [],
   "source": [
    "timestamp = \"2023_0317_1547_40\"\n",
    "epoch = 41\n",
    "fl_chkpt = f\"{timestamp}.epoch_{epoch}.chkpt\""
   ]
  },
  {
   "cell_type": "code",
   "execution_count": null,
   "id": "9f0c2622-d936-4dbf-848d-5881e24eae77",
   "metadata": {},
   "outputs": [],
   "source": [
    "batch_size = 100\n",
    "lr = 1e-3\n",
    "frac_train = 0.6\n",
    "frac_validate = 0.5\n",
    "\n",
    "timestamp = \"2023_0317_1157_27\"\n",
    "epoch = 77\n",
    "fl_chkpt = f\"{timestamp}.epoch_{epoch}.chkpt\""
   ]
  },
  {
   "cell_type": "code",
   "execution_count": null,
   "id": "c02af29c-addc-4eb4-b243-f00d18f1e407",
   "metadata": {},
   "outputs": [],
   "source": [
    "batch_size = 100\n",
    "lr = 1e-3\n",
    "frac_train = 0.7\n",
    "frac_validate = 0.5\n",
    "\n",
    "timestamp = \"2023_0317_1547_40\"\n",
    "epoch = 198\n",
    "fl_chkpt = f\"{timestamp}.epoch_{epoch}.chkpt\""
   ]
  },
  {
   "cell_type": "code",
   "execution_count": 169,
   "id": "5ca35ddb-93d6-4ec5-8fcc-660a07c6bb22",
   "metadata": {},
   "outputs": [],
   "source": [
    "batch_size = 100\n",
    "lr = 1e-3\n",
    "frac_train = 0.7\n",
    "frac_validate = 0.5\n",
    "\n",
    "timestamp = \"2023_0317_2047_44\"\n",
    "epoch = 1105\n",
    "fl_chkpt = f\"{timestamp}.epoch_{epoch}.chkpt\""
   ]
  },
  {
   "cell_type": "code",
   "execution_count": 7,
   "id": "a67bf061-d2fa-4dc8-b182-b1b38225aa27",
   "metadata": {},
   "outputs": [],
   "source": [
    "# path_pickle = \"beam_center.pickle\"\n",
    "# path_pickle = \"beam_center.v2.pickle\"\n",
    "path_pickle = \"beam_center.v3.pickle\"\n",
    "with open(path_pickle, 'rb') as handle:\n",
    "    data_list = pickle.load(handle)\n",
    "\n",
    "# Split data...\n",
    "data_train   , data_val_and_test = split_dataset(data_list        , frac_train   , seed = None)\n",
    "data_validate, data_test         = split_dataset(data_val_and_test, frac_validate, seed = None)"
   ]
  },
  {
   "cell_type": "code",
   "execution_count": null,
   "id": "1c25b466-f697-450d-9852-7a03072f7895",
   "metadata": {},
   "outputs": [],
   "source": [
    "len(data_train), len(data_validate), len(data_test)"
   ]
  },
  {
   "cell_type": "code",
   "execution_count": null,
   "id": "1bc66cde-ee72-4f26-b661-8ea122f53068",
   "metadata": {},
   "outputs": [],
   "source": [
    "img_orig, center_orig, metadata_orig = data_test[0]"
   ]
  },
  {
   "cell_type": "code",
   "execution_count": 139,
   "id": "f5c6a813-2d3f-477d-a957-045b562c5013",
   "metadata": {},
   "outputs": [],
   "source": [
    "size_img_y, size_img_x = (200, 200)\n",
    "size_pad       = 2000\n",
    "size_patch     = 20\n",
    "frac_shift_max = 0.2\n",
    "angle_max      = 20\n",
    "\n",
    "trans_list = (\n",
    "    Pad(size_y = size_pad, size_x = size_pad),\n",
    "    Resize(size_img_y, size_img_x),\n",
    "    RandomRotate(angle_max = angle_max),\n",
    "    RandomShift(frac_shift_max, frac_shift_max),\n",
    "    RandomCenterCropZoom(trim_factor_max = 0.2),\n",
    "    # RandomPatch(num_patch = 20, size_patch_y = size_patch, size_patch_x = size_patch, var_patch_y = 0.2, var_patch_x = 0.2),\n",
    ")"
   ]
  },
  {
   "cell_type": "code",
   "execution_count": 170,
   "id": "7564ceb5-1aa0-4128-8c4c-691a10b587a3",
   "metadata": {},
   "outputs": [
    {
     "data": {
      "text/plain": [
       "BeHenataNet(\n",
       "  (feature_extractor): Sequential(\n",
       "    (0): Conv2d(1, 32, kernel_size=(5, 5), stride=(1, 1))\n",
       "    (1): BatchNorm2d(32, eps=1e-05, momentum=0.1, affine=True, track_running_stats=True)\n",
       "    (2): PReLU(num_parameters=1)\n",
       "    (3): MaxPool2d(kernel_size=2, stride=2, padding=0, dilation=1, ceil_mode=False)\n",
       "    (4): Conv2d(32, 64, kernel_size=(3, 3), stride=(1, 1))\n",
       "    (5): BatchNorm2d(64, eps=1e-05, momentum=0.1, affine=True, track_running_stats=True)\n",
       "    (6): PReLU(num_parameters=1)\n",
       "    (7): MaxPool2d(kernel_size=2, stride=2, padding=0, dilation=1, ceil_mode=False)\n",
       "    (8): Conv2d(64, 128, kernel_size=(3, 3), stride=(1, 1))\n",
       "    (9): BatchNorm2d(128, eps=1e-05, momentum=0.1, affine=True, track_running_stats=True)\n",
       "    (10): PReLU(num_parameters=1)\n",
       "    (11): MaxPool2d(kernel_size=2, stride=2, padding=0, dilation=1, ceil_mode=False)\n",
       "    (12): Conv2d(128, 128, kernel_size=(3, 3), stride=(1, 1))\n",
       "    (13): BatchNorm2d(128, eps=1e-05, momentum=0.1, affine=True, track_running_stats=True)\n",
       "    (14): PReLU(num_parameters=1)\n",
       "    (15): Conv2d(128, 4, kernel_size=(1, 1), stride=(1, 1))\n",
       "    (16): BatchNorm2d(4, eps=1e-05, momentum=0.1, affine=True, track_running_stats=True)\n",
       "    (17): PReLU(num_parameters=1)\n",
       "  )\n",
       "  (fc): Sequential(\n",
       "    (0): Linear(in_features=1764, out_features=256, bias=True)\n",
       "    (1): PReLU(num_parameters=1)\n",
       "    (2): Linear(in_features=256, out_features=16, bias=True)\n",
       "    (3): PReLU(num_parameters=1)\n",
       "    (4): Linear(in_features=16, out_features=2, bias=True)\n",
       "  )\n",
       "  (sigmoid): Sigmoid()\n",
       ")"
      ]
     },
     "execution_count": 170,
     "metadata": {},
     "output_type": "execute_result"
    }
   ],
   "source": [
    "device = torch.cuda.current_device() if torch.cuda.is_available() else 'cpu'\n",
    "config_model = ConfigModel( size_y = size_img_y, size_x = size_img_x, isbias = True )\n",
    "model = BeHenataNet(config_model)\n",
    "model.init_params(fl_chkpt = fl_chkpt)\n",
    "model.to(device)"
   ]
  },
  {
   "cell_type": "code",
   "execution_count": null,
   "id": "a094dc88-2964-4b0e-80ae-39c71262035a",
   "metadata": {},
   "outputs": [],
   "source": [
    "len(data_train)"
   ]
  },
  {
   "cell_type": "code",
   "execution_count": 189,
   "id": "c892e935-590b-43df-a9e0-1409c90bd193",
   "metadata": {},
   "outputs": [],
   "source": [
    "img_orig, center_orig, metadata_orig = data_test[3]\n",
    "# img_orig, center_orig, metadata_orig = data_train[1]\n",
    "img = img_orig.copy()\n",
    "center = center_orig\n",
    "for trans in trans_list: img, center = trans(img, center)\n",
    "img = (img - img.mean()) / img.std()    # Don't forget to normalize data.  I did it in the data loader.\n",
    "\n",
    "size_y, size_x = img.shape[-2:]\n",
    "cy, cx = center\n",
    "cy_frac = cy / size_y\n",
    "cx_frac = cx / size_x\n",
    "\n",
    "center = (cy_frac, cx_frac)"
   ]
  },
  {
   "cell_type": "code",
   "execution_count": 190,
   "id": "c3ba1c0f-92a4-42e6-b34a-79b4b16cf9a9",
   "metadata": {},
   "outputs": [],
   "source": [
    "# img[img > img.mean() + img.std()] = 0\n",
    "# img[img < img.mean() - 2 * img.std()] = 0"
   ]
  },
  {
   "cell_type": "code",
   "execution_count": 191,
   "id": "32bfc245-1a03-4beb-bf23-241e1525fea0",
   "metadata": {},
   "outputs": [
    {
     "name": "stdout",
     "output_type": "stream",
     "text": [
      "time: 5.319973453879356 ms.\n",
      "loss: 4.0425780753139406e-05\n"
     ]
    }
   ],
   "source": [
    "time_start = time.monotonic()\n",
    "img = torch.tensor(img[None, None,]).to(device, dtype = torch.float)\n",
    "with torch.no_grad(): \n",
    "    center_pred = model.predict(img)\n",
    "    loss = model.forward(img, torch.tensor(center).to(device)[None,])\n",
    "time_end = time.monotonic()\n",
    "print(f\"time: {(time_end - time_start) * 1e3} ms.\")\n",
    "print(f\"loss: {loss}\")"
   ]
  },
  {
   "cell_type": "code",
   "execution_count": 192,
   "id": "2e05aed8-8c01-4fdb-97b4-ac553e30596d",
   "metadata": {},
   "outputs": [
    {
     "data": {
      "text/plain": [
       "(tensor([[0.3418, 0.6139]], device='cuda:0'),\n",
       " (0.3328686356382979, 0.6131190712765957))"
      ]
     },
     "execution_count": 192,
     "metadata": {},
     "output_type": "execute_result"
    }
   ],
   "source": [
    "center_pred, center"
   ]
  },
  {
   "cell_type": "code",
   "execution_count": 193,
   "id": "11ef227b-b63e-4a85-900f-9871d4abbc1a",
   "metadata": {},
   "outputs": [],
   "source": [
    "img = img[0, 0].cpu().numpy()\n",
    "center_pred = center_pred[0].cpu().numpy()\n",
    "# size_y, size_x = img.shape\n",
    "\n",
    "size_y, size_x = img.shape[-2:]\n",
    "center_pred_rescale = np.array([ size * c for size, c in zip((size_y, size_x), center_pred) ])\n",
    "center_rescale = np.array([ size * c for size, c in zip((size_y, size_x), center) ])"
   ]
  },
  {
   "cell_type": "code",
   "execution_count": 194,
   "id": "6ad73e01-df60-47bc-94c3-9ea213ce7991",
   "metadata": {},
   "outputs": [
    {
     "name": "stdout",
     "output_type": "stream",
     "text": [
      "(y, x) = [1.7921865  0.14876017]\n"
     ]
    },
    {
     "data": {
      "image/png": "[encoded data removed]",
      "text/plain": [
       "<Figure size 1000x1000 with 1 Axes>"
      ]
     },
     "metadata": {},
     "output_type": "display_data"
    }
   ],
   "source": [
    "radius = 20\n",
    "fig = plt.figure(figsize = (10, 10))\n",
    "circle_pred = mpatches.Circle(center_pred_rescale[::-1], radius=radius, color='blue', fill=False)    # Err..., matplotlib uses (x, y) not (y, x)\n",
    "circle      = mpatches.Circle(center_rescale[::-1], radius=radius, color='red', fill=False)    # Err..., matplotlib uses (x, y) not (y, x)\n",
    "\n",
    "vmin = np.nanmedian(img)\n",
    "vmax = np.nanmedian(img) + 8 * np.nanstd(img)\n",
    "plt.imshow(img, vmin = vmin, vmax = vmax)\n",
    "plt.gca().add_patch(circle_pred)\n",
    "plt.gca().add_patch(circle)\n",
    "plt.title(f\"{metadata_orig}, {img.shape}, {center_pred_rescale}, {center_rescale}\")\n",
    "print(f\"(y, x) = {center_pred_rescale - center_rescale}\")"
   ]
  },
  {
   "cell_type": "code",
   "execution_count": 168,
   "id": "da834848-d215-4800-adf1-230f6430bbcc",
   "metadata": {},
   "outputs": [
    {
     "data": {
      "text/plain": [
       "tensor(-16.)"
      ]
     },
     "execution_count": 168,
     "metadata": {},
     "output_type": "execute_result"
    }
   ],
   "source": [
    "torch.log10(torch.tensor(1e-16))"
   ]
  },
  {
   "cell_type": "code",
   "execution_count": null,
   "id": "304cbab4-807a-446e-8bdc-2aa113bdb051",
   "metadata": {},
   "outputs": [],
   "source": [
    "loss_fn = torch.nn.L1Loss()\n",
    "# loss_fn = torch.nn.MSELoss()\n",
    "loss_fn(center_pred, torch.tensor(center).to(device)[None,])"
   ]
  },
  {
   "cell_type": "code",
   "execution_count": null,
   "id": "36ab491f-4c1c-4fa3-8098-316dca103cdf",
   "metadata": {},
   "outputs": [],
   "source": [
    "loss_fn = torch.nn.MSELoss()\n",
    "loss_fn(center_pred, torch.tensor(center).to(device)[None,])"
   ]
  },
  {
   "cell_type": "code",
   "execution_count": null,
   "id": "cb687cd6-e9df-4153-819e-ba191c325968",
   "metadata": {},
   "outputs": [],
   "source": [
    "np.mean(np.abs(center_pred.cpu().numpy() - np.array(center)), axis = 1)"
   ]
  },
  {
   "cell_type": "code",
   "execution_count": null,
   "id": "b02c5e04-6d95-41d1-97d2-867339cc1ab3",
   "metadata": {},
   "outputs": [],
   "source": [
    "# img_orig, center_orig, metadata_orig = data_test[0]\n",
    "\n",
    "# # img_padded, center_padded = trans_list[0](img_orig, center_orig)\n",
    "\n",
    "# center_pred[0] *= 2000 / size_y\n",
    "# center_pred[1] *= 2000 / size_x\n",
    "\n",
    "# fig = plt.figure(figsize = (8, 8))\n",
    "# circle_pred = mpatches.Circle(center_pred[::-1], radius=radius, color='blue', fill=False)    # Err..., matplotlib uses (x, y) not (y, x)\n",
    "# circle      = mpatches.Circle(center_orig[::-1], radius=radius, color='red', fill=False)    # Err..., matplotlib uses (x, y) not (y, x)\n",
    "# # circle      = mpatches.Circle(center_padded[::-1], radius=radius, color='red', fill=False)    # Err..., matplotlib uses (x, y) not (y, x)\n",
    "\n",
    "# vmin = np.nanmedian(img_orig)\n",
    "# vmax = np.nanmedian(img_orig) + 8 * np.nanstd(img_orig)\n",
    "# plt.imshow(img_orig, vmin = vmin, vmax = vmax)\n",
    "# plt.gca().add_patch(circle_pred)\n",
    "# plt.gca().add_patch(circle)\n",
    "# plt.title(f\"{img.shape}, {center_pred}, {center_orig}\")\n",
    "\n",
    "# # vmin = np.nanmedian(img_padded)\n",
    "# # vmax = np.nanmedian(img_padded) + 8 * np.nanstd(img_padded)\n",
    "# # plt.imshow(img_padded, vmin = vmin, vmax = vmax)\n",
    "# # plt.gca().add_patch(circle_pred)\n",
    "# # plt.gca().add_patch(circle)\n",
    "# # plt.title(f\"{img.shape}, {center_pred}, {center_padded}\")"
   ]
  },
  {
   "cell_type": "code",
   "execution_count": null,
   "id": "779024d0-e5c5-456a-92ae-1cc03f55af5c",
   "metadata": {},
   "outputs": [],
   "source": []
  },
  {
   "cell_type": "code",
   "execution_count": null,
   "id": "6b832e9b-fb55-4624-b86d-f8db746c8cd1",
   "metadata": {},
   "outputs": [],
   "source": []
  }
 ],
 "metadata": {
  "kernelspec": {
   "display_name": "peaknet",
   "language": "python",
   "name": "peaknet"
  },
  "language_info": {
   "codemirror_mode": {
    "name": "ipython",
    "version": 3
   },
   "file_extension": ".py",
   "mimetype": "text/x-python",
   "name": "python",
   "nbconvert_exporter": "python",
   "pygments_lexer": "ipython3",
   "version": "3.7.12"
  }
 },
 "nbformat": 4,
 "nbformat_minor": 5
}
