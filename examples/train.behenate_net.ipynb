{
 "cells": [
  {
   "cell_type": "code",
   "execution_count": 1,
   "id": "fc02def9-6a01-4f2f-a6b1-d952d603c330",
   "metadata": {},
   "outputs": [],
   "source": [
    "import os\n",
    "import pickle\n",
    "import numpy as np\n",
    "import torch\n",
    "import random\n",
    "import tqdm"
   ]
  },
  {
   "cell_type": "code",
   "execution_count": 2,
   "id": "6f63869d-5973-4c35-8d9e-d9a81a17dbd9",
   "metadata": {
    "tags": []
   },
   "outputs": [],
   "source": [
    "import matplotlib              as mpl\n",
    "import matplotlib.pyplot       as plt\n",
    "import matplotlib.colors       as mcolors\n",
    "import matplotlib.patches      as mpatches\n",
    "import matplotlib.transforms   as mtransforms\n",
    "import matplotlib.font_manager as font_manager\n",
    "%matplotlib inline"
   ]
  },
  {
   "cell_type": "code",
   "execution_count": 3,
   "id": "a6b9af70-b506-4226-8644-4cdc5e09116d",
   "metadata": {},
   "outputs": [],
   "source": [
    "from aug import PadBottomRight, \\\n",
    "                Crop,           \\\n",
    "                RandomCrop,     \\\n",
    "                Resize,         \\\n",
    "                RandomShift,    \\\n",
    "                RandomRotate,   \\\n",
    "                RandomPatch"
   ]
  },
  {
   "cell_type": "code",
   "execution_count": 4,
   "id": "9e59fc93-6488-4ec9-bcae-db079416c4c8",
   "metadata": {},
   "outputs": [],
   "source": [
    "from behenate_net.dataset   import BeHenateDataset\n",
    "from behenate_net.model     import ConfigModel, BeHenataNet\n",
    "from behenate_net.trainer   import ConfigTrainer, Trainer\n",
    "from behenate_net.validator import ConfigValidator, Validator\n",
    "from behenate_net.utils     import EpochManager, split_dataset, set_seed, init_logger"
   ]
  },
  {
   "cell_type": "code",
   "execution_count": 5,
   "id": "84beccc9-0590-4b70-bdf5-2f51d4c46f12",
   "metadata": {},
   "outputs": [],
   "source": [
    "seed = 0\n",
    "set_seed(seed)"
   ]
  },
  {
   "cell_type": "code",
   "execution_count": 6,
   "id": "70c9f7ed-07dc-432c-8cc5-220c2caa5daa",
   "metadata": {},
   "outputs": [],
   "source": [
    "batch_size = 200\n",
    "lr = 1e-3\n",
    "frac_train = 0.8\n",
    "frac_validate = 0.5"
   ]
  },
  {
   "cell_type": "code",
   "execution_count": 7,
   "id": "f2244f57-da18-4c77-bd1e-204edd67e623",
   "metadata": {},
   "outputs": [
    {
     "name": "stdout",
     "output_type": "stream",
     "text": [
      "2023_0313_1707_09\n"
     ]
    }
   ],
   "source": [
    "timestamp = init_logger(log_name = 'train', returns_timestamp = True)\n",
    "print(timestamp)"
   ]
  },
  {
   "cell_type": "code",
   "execution_count": 8,
   "id": "c0ee11aa-0cb7-4d48-863b-1223f7442342",
   "metadata": {},
   "outputs": [],
   "source": [
    "# timestamp_prev = \"2023_0313_1255_23\"\n",
    "# epoch = 360\n",
    "# fl_chkpt = f\"{timestamp_prev}.epoch_{epoch}.chkpt\""
   ]
  },
  {
   "cell_type": "code",
   "execution_count": 9,
   "id": "a67bf061-d2fa-4dc8-b182-b1b38225aa27",
   "metadata": {},
   "outputs": [],
   "source": [
    "path_pickle = \"beam_center.pickle\"\n",
    "with open(path_pickle, 'rb') as handle:\n",
    "    data_list = pickle.load(handle)\n",
    "\n",
    "# Split data...\n",
    "data_train   , data_val_and_test = split_dataset(data_list        , frac_train   , seed = None)\n",
    "data_validate, data_test         = split_dataset(data_val_and_test, frac_validate, seed = None)"
   ]
  },
  {
   "cell_type": "code",
   "execution_count": 10,
   "id": "0e4ce4c9-a301-49bb-8bb1-3e1e015197a6",
   "metadata": {},
   "outputs": [],
   "source": [
    "size_sample = 4000\n",
    "size_img_y, size_img_x = (64, 64)\n",
    "normalizes_data = True\n",
    "trans_list = (\n",
    "    PadBottomRight(size_y = 2000, size_x = 2000),\n",
    "    # Crop((940, 960), (200, 200)),\n",
    "    RandomCrop(center_shift_max = (20, 20), crop_window_size = (1000, 1000)),\n",
    "    Resize(size_img_y, size_img_x),\n",
    "    RandomShift(0.1, 0.1),\n",
    "    RandomRotate(angle_max = 90),\n",
    "    RandomPatch(num_patch = 10, size_patch_y = 10, size_patch_x = 10, var_patch_y = 0.2, var_patch_x = 0.2),\n",
    ")\n",
    "dataset_train = BeHenateDataset( data_list          = data_train,\n",
    "                                 size_sample        = size_sample,\n",
    "                                 trans_list         = trans_list,\n",
    "                                 normalizes_data    = normalizes_data,\n",
    "                                 prints_cache_state = False,\n",
    "                               )\n",
    "dataset_train.cache_dataset()\n",
    "\n",
    "dataset_validate = BeHenateDataset( data_list       = data_validate,\n",
    "                                    size_sample     = size_sample // 2,\n",
    "                                    trans_list      = trans_list,\n",
    "                                    normalizes_data = normalizes_data,\n",
    "                                    prints_cache_state = False,\n",
    "                                  )\n",
    "dataset_validate.cache_dataset()"
   ]
  },
  {
   "cell_type": "code",
   "execution_count": 11,
   "id": "5b0cf92e-ea38-49ed-ae16-42bafc46bb41",
   "metadata": {},
   "outputs": [],
   "source": [
    "# img, center, _ = dataset_train[23]\n",
    "# img = img[0]\n",
    "\n",
    "# radius = 10\n",
    "# fig = plt.figure(figsize = (8, 8))\n",
    "# circle = mpatches.Circle(center[::-1], radius=radius, color='red', fill=False)    # Err..., matplotlib uses (x, y) not (y, x)\n",
    "# vmin = np.nanmedian(img)\n",
    "# vmax = np.nanmedian(img) + 8 * np.nanstd(img)\n",
    "# plt.imshow(img, vmin = vmin, vmax = vmax)\n",
    "# plt.gca().add_patch(circle)\n",
    "# plt.title(f\"{img.shape}, {center}\")"
   ]
  },
  {
   "cell_type": "code",
   "execution_count": 12,
   "id": "ad55394e-ad72-4857-a754-f19a44f2e948",
   "metadata": {},
   "outputs": [],
   "source": [
    "device = torch.cuda.current_device() if torch.cuda.is_available() else 'cpu'\n",
    "config_model = ConfigModel( size_y = size_img_y, size_x = size_img_x, isbias = True )\n",
    "model = BeHenataNet(config_model)\n",
    "model.init_params(fl_chkpt = None)\n",
    "# model.init_params(fl_chkpt = fl_chkpt)"
   ]
  },
  {
   "cell_type": "code",
   "execution_count": 13,
   "id": "d157a64d-663b-449f-ae48-0fc4a976faee",
   "metadata": {},
   "outputs": [],
   "source": [
    "# [[[ TRAINER ]]]\n",
    "# Config the trainer...\n",
    "config_train = ConfigTrainer( timestamp    = timestamp,\n",
    "                              num_workers  = 1,\n",
    "                              batch_size   = batch_size,\n",
    "                              pin_memory   = True,\n",
    "                              shuffle      = False,\n",
    "                              lr           = lr,\n",
    "                              tqdm_disable = True)\n",
    "trainer = Trainer(model, dataset_train, config_train)\n",
    "\n",
    "# [[[ VALIDATOR ]]]\n",
    "# Config the validator...\n",
    "config_validator = ConfigValidator( num_workers  = 1,\n",
    "                                    batch_size   = batch_size,\n",
    "                                    pin_memory   = True,\n",
    "                                    shuffle      = False,\n",
    "                                    lr           = lr,\n",
    "                                    tqdm_disable = True)\n",
    "validator = Validator(model, dataset_validate, config_validator)"
   ]
  },
  {
   "cell_type": "code",
   "execution_count": 14,
   "id": "b6542b8c-c6bd-4771-bc4a-b19a02eca069",
   "metadata": {},
   "outputs": [
    {
     "name": "stderr",
     "output_type": "stream",
     "text": [
      "100%|██████████| 1000/1000 [16:36<00:00,  1.00it/s]\n"
     ]
    }
   ],
   "source": [
    "# [[[ TRAIN EPOCHS ]]]\n",
    "loss_train_hist    = []\n",
    "loss_validate_hist = []\n",
    "loss_min_hist      = []\n",
    "\n",
    "# [[[ EPOCH MANAGER ]]]\n",
    "epoch_manager = EpochManager( trainer   = trainer,\n",
    "                              validator = validator, )\n",
    "max_epochs = 1000\n",
    "freq_save = 5\n",
    "for epoch in tqdm.tqdm(range(max_epochs), disable=False):\n",
    "    loss_train, loss_validate, loss_min = epoch_manager.run_one_epoch(epoch = epoch, returns_loss = True)\n",
    "\n",
    "    loss_train_hist.append(loss_train)\n",
    "    loss_validate_hist.append(loss_validate)\n",
    "    loss_min_hist.append(loss_min)\n",
    "\n",
    "    # if epoch % freq_save == 0: \n",
    "    #     epoch_manager.save_model_parameters()\n",
    "    #     epoch_manager.save_model_gradients()\n",
    "    #     epoch_manager.save_state_dict()"
   ]
  },
  {
   "cell_type": "code",
   "execution_count": null,
   "id": "0786b015-547d-4382-845a-a4fa755b88e0",
   "metadata": {},
   "outputs": [],
   "source": []
  }
 ],
 "metadata": {
  "kernelspec": {
   "display_name": "peaknet",
   "language": "python",
   "name": "peaknet"
  },
  "language_info": {
   "codemirror_mode": {
    "name": "ipython",
    "version": 3
   },
   "file_extension": ".py",
   "mimetype": "text/x-python",
   "name": "python",
   "nbconvert_exporter": "python",
   "pygments_lexer": "ipython3",
   "version": "3.7.12"
  }
 },
 "nbformat": 4,
 "nbformat_minor": 5
}
